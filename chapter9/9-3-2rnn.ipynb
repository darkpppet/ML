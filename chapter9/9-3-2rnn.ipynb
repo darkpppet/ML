{
 "cells": [
  {
   "cell_type": "code",
   "execution_count": 3,
   "id": "initial_id",
   "metadata": {
    "collapsed": true,
    "ExecuteTime": {
     "end_time": "2023-11-07T06:18:33.227755Z",
     "start_time": "2023-11-07T06:18:31.025831800Z"
    }
   },
   "outputs": [],
   "source": [
    "from tensorflow.keras.datasets import imdb\n",
    "from tensorflow.keras.preprocessing.sequence import pad_sequences\n",
    "from sklearn.model_selection import train_test_split\n",
    "\n",
    "(train_input, train_target), (test_input, test_target) = imdb.load_data(\n",
    "    num_words=500)\n",
    "train_input, val_input, train_target, val_target = train_test_split(\n",
    "    train_input, train_target, test_size=0.2)\n",
    "\n",
    "train_seq = pad_sequences(train_input, maxlen=100)\n",
    "val_seq = pad_sequences(val_input, maxlen=100)"
   ]
  },
  {
   "cell_type": "code",
   "execution_count": 4,
   "outputs": [],
   "source": [
    "from tensorflow import keras\n",
    "\n",
    "model3 = keras.Sequential()\n",
    "model3.add(keras.layers.Embedding(500, 16, input_length=100))\n",
    "model3.add(keras.layers.LSTM(8, dropout=0.3, return_sequences=True))\n",
    "model3.add(keras.layers.LSTM(8, dropout=0.3))\n",
    "model3.add(keras.layers.Dense(1, activation='sigmoid'))"
   ],
   "metadata": {
    "collapsed": false,
    "ExecuteTime": {
     "end_time": "2023-11-07T06:18:33.524797800Z",
     "start_time": "2023-11-07T06:18:33.227755Z"
    }
   },
   "id": "6afe30ec5078017f"
  },
  {
   "cell_type": "code",
   "execution_count": null,
   "outputs": [],
   "source": [
    "model3.summary()"
   ],
   "metadata": {
    "collapsed": false
   },
   "id": "9025650c64b3f5df"
  },
  {
   "cell_type": "code",
   "execution_count": 5,
   "outputs": [
    {
     "name": "stdout",
     "output_type": "stream",
     "text": [
      "Epoch 1/100\n",
      "313/313 [==============================] - 12s 31ms/step - loss: 0.6926 - accuracy: 0.5369 - val_loss: 0.6920 - val_accuracy: 0.5806\n",
      "Epoch 2/100\n",
      "  3/313 [..............................] - ETA: 8s - loss: 0.6919 - accuracy: 0.5938 "
     ]
    },
    {
     "name": "stderr",
     "output_type": "stream",
     "text": [
      "C:\\Users\\gyeol\\AppData\\Local\\Programs\\Python\\Python311\\Lib\\site-packages\\keras\\src\\engine\\training.py:3079: UserWarning: You are saving your model as an HDF5 file via `model.save()`. This file format is considered legacy. We recommend using instead the native Keras format, e.g. `model.save('my_model.keras')`.\n",
      "  saving_api.save_model(\n"
     ]
    },
    {
     "name": "stdout",
     "output_type": "stream",
     "text": [
      "313/313 [==============================] - 9s 29ms/step - loss: 0.6902 - accuracy: 0.5900 - val_loss: 0.6876 - val_accuracy: 0.5918\n",
      "Epoch 3/100\n",
      "313/313 [==============================] - 9s 29ms/step - loss: 0.6778 - accuracy: 0.6403 - val_loss: 0.6601 - val_accuracy: 0.6766\n",
      "Epoch 4/100\n",
      "313/313 [==============================] - 9s 28ms/step - loss: 0.6210 - accuracy: 0.6885 - val_loss: 0.5764 - val_accuracy: 0.7138\n",
      "Epoch 5/100\n",
      "313/313 [==============================] - 9s 28ms/step - loss: 0.5576 - accuracy: 0.7229 - val_loss: 0.5411 - val_accuracy: 0.7374\n",
      "Epoch 6/100\n",
      "313/313 [==============================] - 9s 29ms/step - loss: 0.5317 - accuracy: 0.7418 - val_loss: 0.5219 - val_accuracy: 0.7476\n",
      "Epoch 7/100\n",
      "313/313 [==============================] - 9s 29ms/step - loss: 0.5134 - accuracy: 0.7541 - val_loss: 0.5095 - val_accuracy: 0.7596\n",
      "Epoch 8/100\n",
      "313/313 [==============================] - 9s 28ms/step - loss: 0.4986 - accuracy: 0.7675 - val_loss: 0.4970 - val_accuracy: 0.7682\n",
      "Epoch 9/100\n",
      "313/313 [==============================] - 9s 29ms/step - loss: 0.4910 - accuracy: 0.7687 - val_loss: 0.4972 - val_accuracy: 0.7692\n",
      "Epoch 10/100\n",
      "313/313 [==============================] - 9s 29ms/step - loss: 0.4811 - accuracy: 0.7770 - val_loss: 0.4835 - val_accuracy: 0.7734\n",
      "Epoch 11/100\n",
      "313/313 [==============================] - 9s 29ms/step - loss: 0.4736 - accuracy: 0.7821 - val_loss: 0.4787 - val_accuracy: 0.7786\n",
      "Epoch 12/100\n",
      "313/313 [==============================] - 9s 29ms/step - loss: 0.4678 - accuracy: 0.7883 - val_loss: 0.4737 - val_accuracy: 0.7798\n",
      "Epoch 13/100\n",
      "313/313 [==============================] - 9s 29ms/step - loss: 0.4633 - accuracy: 0.7876 - val_loss: 0.4772 - val_accuracy: 0.7798\n",
      "Epoch 14/100\n",
      "313/313 [==============================] - 9s 30ms/step - loss: 0.4556 - accuracy: 0.7923 - val_loss: 0.4689 - val_accuracy: 0.7824\n",
      "Epoch 15/100\n",
      "313/313 [==============================] - 9s 29ms/step - loss: 0.4544 - accuracy: 0.7917 - val_loss: 0.4679 - val_accuracy: 0.7826\n",
      "Epoch 16/100\n",
      "313/313 [==============================] - 9s 29ms/step - loss: 0.4520 - accuracy: 0.7930 - val_loss: 0.4707 - val_accuracy: 0.7794\n",
      "Epoch 17/100\n",
      "313/313 [==============================] - 9s 29ms/step - loss: 0.4489 - accuracy: 0.7957 - val_loss: 0.4687 - val_accuracy: 0.7816\n",
      "Epoch 18/100\n",
      "313/313 [==============================] - 9s 28ms/step - loss: 0.4442 - accuracy: 0.7986 - val_loss: 0.4606 - val_accuracy: 0.7858\n",
      "Epoch 19/100\n",
      "313/313 [==============================] - 9s 28ms/step - loss: 0.4414 - accuracy: 0.7997 - val_loss: 0.4674 - val_accuracy: 0.7814\n",
      "Epoch 20/100\n",
      "313/313 [==============================] - 9s 28ms/step - loss: 0.4414 - accuracy: 0.7984 - val_loss: 0.4560 - val_accuracy: 0.7888\n",
      "Epoch 21/100\n",
      "313/313 [==============================] - 9s 28ms/step - loss: 0.4365 - accuracy: 0.8033 - val_loss: 0.4596 - val_accuracy: 0.7844\n",
      "Epoch 22/100\n",
      "313/313 [==============================] - 9s 28ms/step - loss: 0.4368 - accuracy: 0.8005 - val_loss: 0.4582 - val_accuracy: 0.7842\n",
      "Epoch 23/100\n",
      "313/313 [==============================] - 9s 28ms/step - loss: 0.4336 - accuracy: 0.8042 - val_loss: 0.4536 - val_accuracy: 0.7860\n",
      "Epoch 24/100\n",
      "313/313 [==============================] - 9s 28ms/step - loss: 0.4333 - accuracy: 0.8051 - val_loss: 0.4518 - val_accuracy: 0.7868\n",
      "Epoch 25/100\n",
      "313/313 [==============================] - 9s 28ms/step - loss: 0.4281 - accuracy: 0.8060 - val_loss: 0.4588 - val_accuracy: 0.7844\n",
      "Epoch 26/100\n",
      "313/313 [==============================] - 9s 28ms/step - loss: 0.4311 - accuracy: 0.8053 - val_loss: 0.4569 - val_accuracy: 0.7854\n",
      "Epoch 27/100\n",
      "313/313 [==============================] - 9s 28ms/step - loss: 0.4295 - accuracy: 0.8054 - val_loss: 0.4569 - val_accuracy: 0.7856\n"
     ]
    }
   ],
   "source": [
    "rmsprop = keras.optimizers.RMSprop(learning_rate=1e-4)\n",
    "\n",
    "model3.compile(optimizer=rmsprop, loss='binary_crossentropy',\n",
    "              metrics=['accuracy'])\n",
    "\n",
    "checkpoint_cb = keras.callbacks.ModelCheckpoint('h5/best-2rnn-model.h5',\n",
    "                                                save_best_only=True)\n",
    "early_stopping_cb = keras.callbacks.EarlyStopping(patience=3,\n",
    "                                                  restore_best_weights=True)\n",
    "\n",
    "history = model3.fit(train_seq, train_target, epochs=100, batch_size=64,\n",
    "                    validation_data=(val_seq, val_target),\n",
    "                    callbacks=[checkpoint_cb, early_stopping_cb])"
   ],
   "metadata": {
    "collapsed": false,
    "ExecuteTime": {
     "end_time": "2023-11-07T06:22:38.922285100Z",
     "start_time": "2023-11-07T06:18:33.526791200Z"
    }
   },
   "id": "221c0547a0423d48"
  },
  {
   "cell_type": "code",
   "execution_count": 6,
   "outputs": [
    {
     "data": {
      "text/plain": "<Figure size 640x480 with 1 Axes>",
      "image/png": "[encoded data removed]"
     },
     "metadata": {},
     "output_type": "display_data"
    }
   ],
   "source": [
    "import matplotlib.pyplot as plt\n",
    "\n",
    "plt.plot(history.history['loss'])\n",
    "plt.plot(history.history['val_loss'])\n",
    "plt.xlabel('epoch')\n",
    "plt.ylabel('loss')\n",
    "plt.legend(['train', 'val'])\n",
    "plt.show()"
   ],
   "metadata": {
    "collapsed": false,
    "ExecuteTime": {
     "end_time": "2023-11-07T06:22:39.369001900Z",
     "start_time": "2023-11-07T06:22:38.923281700Z"
    }
   },
   "id": "a68089be3c27dc3d"
  },
  {
   "cell_type": "code",
   "execution_count": 7,
   "outputs": [
    {
     "name": "stdout",
     "output_type": "stream",
     "text": [
      "782/782 [==============================] - 5s 6ms/step - loss: 0.4357 - accuracy: 0.7968\n"
     ]
    },
    {
     "data": {
      "text/plain": "[0.43570825457572937, 0.7968400120735168]"
     },
     "execution_count": 7,
     "metadata": {},
     "output_type": "execute_result"
    }
   ],
   "source": [
    "test_seq = pad_sequences(test_input, maxlen=100)\n",
    "rnn_model = keras.models.load_model('h5/best-2rnn-model.h5')\n",
    "rnn_model.evaluate(test_seq, test_target)"
   ],
   "metadata": {
    "collapsed": false,
    "ExecuteTime": {
     "end_time": "2023-11-07T06:30:14.450306200Z",
     "start_time": "2023-11-07T06:30:09.124032200Z"
    }
   },
   "id": "ce8fc4fd8db6ff86"
  },
  {
   "cell_type": "code",
   "execution_count": null,
   "outputs": [],
   "source": [],
   "metadata": {
    "collapsed": false
   },
   "id": "cba0b5db00c04ad6"
  }
 ],
 "metadata": {
  "kernelspec": {
   "display_name": "Python 3",
   "language": "python",
   "name": "python3"
  },
  "language_info": {
   "codemirror_mode": {
    "name": "ipython",
    "version": 2
   },
   "file_extension": ".py",
   "mimetype": "text/x-python",
   "name": "python",
   "nbconvert_exporter": "python",
   "pygments_lexer": "ipython2",
   "version": "2.7.6"
  }
 },
 "nbformat": 4,
 "nbformat_minor": 5
}
