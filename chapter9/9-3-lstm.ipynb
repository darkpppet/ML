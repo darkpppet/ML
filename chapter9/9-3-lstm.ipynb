{
 "cells": [
  {
   "cell_type": "code",
   "execution_count": 1,
   "outputs": [],
   "source": [
    "from tensorflow.keras.datasets import imdb\n",
    "from sklearn.model_selection import train_test_split\n",
    "\n",
    "(train_input, train_target), (test_input, test_target) = imdb.load_data(\n",
    "    num_words=500)\n",
    "train_input, val_input, train_target, val_target = train_test_split(\n",
    "    train_input, train_target, test_size=0.2)"
   ],
   "metadata": {
    "collapsed": false,
    "ExecuteTime": {
     "end_time": "2023-11-07T05:29:02.474266100Z",
     "start_time": "2023-11-07T05:28:58.189849800Z"
    }
   },
   "id": "de69465092825fd2"
  },
  {
   "cell_type": "code",
   "execution_count": 2,
   "outputs": [],
   "source": [
    "from tensorflow.keras.preprocessing.sequence import pad_sequences\n",
    "\n",
    "train_seq = pad_sequences(train_input, maxlen=100)\n",
    "val_seq = pad_sequences(val_input, maxlen=100)"
   ],
   "metadata": {
    "collapsed": false,
    "ExecuteTime": {
     "end_time": "2023-11-07T05:29:44.612527100Z",
     "start_time": "2023-11-07T05:29:44.514445800Z"
    }
   },
   "id": "2ca5bbc1bd7b11a1"
  },
  {
   "cell_type": "code",
   "execution_count": 3,
   "outputs": [],
   "source": [
    "from tensorflow import keras\n",
    "\n",
    "model = keras.Sequential()\n",
    "model.add(keras.layers.Embedding(500, 16, input_length=100))\n",
    "model.add(keras.layers.LSTM(8))\n",
    "model.add(keras.layers.Dense(1, activation='sigmoid'))"
   ],
   "metadata": {
    "collapsed": false,
    "ExecuteTime": {
     "end_time": "2023-11-07T05:30:44.007606500Z",
     "start_time": "2023-11-07T05:30:43.835513100Z"
    }
   },
   "id": "1f525319b0273165"
  },
  {
   "cell_type": "code",
   "execution_count": 4,
   "outputs": [
    {
     "name": "stdout",
     "output_type": "stream",
     "text": [
      "Model: \"sequential\"\n",
      "_________________________________________________________________\n",
      " Layer (type)                Output Shape              Param #   \n",
      "=================================================================\n",
      " embedding (Embedding)       (None, 100, 16)           8000      \n",
      "                                                                 \n",
      " lstm (LSTM)                 (None, 8)                 800       \n",
      "                                                                 \n",
      " dense (Dense)               (None, 1)                 9         \n",
      "                                                                 \n",
      "=================================================================\n",
      "Total params: 8809 (34.41 KB)\n",
      "Trainable params: 8809 (34.41 KB)\n",
      "Non-trainable params: 0 (0.00 Byte)\n",
      "_________________________________________________________________\n"
     ]
    }
   ],
   "source": [
    "model.summary()"
   ],
   "metadata": {
    "collapsed": false,
    "ExecuteTime": {
     "end_time": "2023-11-07T05:30:48.418368600Z",
     "start_time": "2023-11-07T05:30:48.401516700Z"
    }
   },
   "id": "1074b38bd6011cf"
  },
  {
   "cell_type": "code",
   "execution_count": 5,
   "outputs": [
    {
     "name": "stdout",
     "output_type": "stream",
     "text": [
      "Epoch 1/100\n",
      "313/313 [==============================] - 6s 15ms/step - loss: 0.6922 - accuracy: 0.5408 - val_loss: 0.6914 - val_accuracy: 0.5738\n",
      "Epoch 2/100\n",
      "  9/313 [..............................] - ETA: 4s - loss: 0.6907 - accuracy: 0.6181"
     ]
    },
    {
     "name": "stderr",
     "output_type": "stream",
     "text": [
      "C:\\Users\\gyeol\\AppData\\Local\\Programs\\Python\\Python311\\Lib\\site-packages\\keras\\src\\engine\\training.py:3079: UserWarning: You are saving your model as an HDF5 file via `model.save()`. This file format is considered legacy. We recommend using instead the native Keras format, e.g. `model.save('my_model.keras')`.\n",
      "  saving_api.save_model(\n"
     ]
    },
    {
     "name": "stdout",
     "output_type": "stream",
     "text": [
      "313/313 [==============================] - 4s 14ms/step - loss: 0.6900 - accuracy: 0.6015 - val_loss: 0.6886 - val_accuracy: 0.6212\n",
      "Epoch 3/100\n",
      "313/313 [==============================] - 4s 14ms/step - loss: 0.6860 - accuracy: 0.6327 - val_loss: 0.6831 - val_accuracy: 0.6420\n",
      "Epoch 4/100\n",
      "313/313 [==============================] - 5s 14ms/step - loss: 0.6768 - accuracy: 0.6599 - val_loss: 0.6689 - val_accuracy: 0.6648\n",
      "Epoch 5/100\n",
      "313/313 [==============================] - 4s 14ms/step - loss: 0.6450 - accuracy: 0.6937 - val_loss: 0.6076 - val_accuracy: 0.7160\n",
      "Epoch 6/100\n",
      "313/313 [==============================] - 4s 14ms/step - loss: 0.5846 - accuracy: 0.7196 - val_loss: 0.5654 - val_accuracy: 0.7352\n",
      "Epoch 7/100\n",
      "313/313 [==============================] - 4s 14ms/step - loss: 0.5574 - accuracy: 0.7354 - val_loss: 0.5425 - val_accuracy: 0.7542\n",
      "Epoch 8/100\n",
      "313/313 [==============================] - 4s 14ms/step - loss: 0.5346 - accuracy: 0.7533 - val_loss: 0.5237 - val_accuracy: 0.7626\n",
      "Epoch 9/100\n",
      "313/313 [==============================] - 4s 14ms/step - loss: 0.5144 - accuracy: 0.7640 - val_loss: 0.5048 - val_accuracy: 0.7764\n",
      "Epoch 10/100\n",
      "313/313 [==============================] - 4s 14ms/step - loss: 0.4964 - accuracy: 0.7775 - val_loss: 0.4890 - val_accuracy: 0.7822\n",
      "Epoch 11/100\n",
      "313/313 [==============================] - 4s 14ms/step - loss: 0.4807 - accuracy: 0.7849 - val_loss: 0.4770 - val_accuracy: 0.7898\n",
      "Epoch 12/100\n",
      "313/313 [==============================] - 4s 14ms/step - loss: 0.4684 - accuracy: 0.7921 - val_loss: 0.4685 - val_accuracy: 0.7908\n",
      "Epoch 13/100\n",
      "313/313 [==============================] - 4s 14ms/step - loss: 0.4591 - accuracy: 0.7951 - val_loss: 0.4637 - val_accuracy: 0.7892\n",
      "Epoch 14/100\n",
      "313/313 [==============================] - 4s 14ms/step - loss: 0.4518 - accuracy: 0.7971 - val_loss: 0.4563 - val_accuracy: 0.7942\n",
      "Epoch 15/100\n",
      "313/313 [==============================] - 4s 14ms/step - loss: 0.4456 - accuracy: 0.8013 - val_loss: 0.4524 - val_accuracy: 0.7952\n",
      "Epoch 16/100\n",
      "313/313 [==============================] - 4s 14ms/step - loss: 0.4412 - accuracy: 0.8018 - val_loss: 0.4489 - val_accuracy: 0.7944\n",
      "Epoch 17/100\n",
      "313/313 [==============================] - 4s 14ms/step - loss: 0.4364 - accuracy: 0.8038 - val_loss: 0.4473 - val_accuracy: 0.7960\n",
      "Epoch 18/100\n",
      "313/313 [==============================] - 4s 14ms/step - loss: 0.4327 - accuracy: 0.8068 - val_loss: 0.4515 - val_accuracy: 0.7922\n",
      "Epoch 19/100\n",
      "313/313 [==============================] - 4s 14ms/step - loss: 0.4302 - accuracy: 0.8069 - val_loss: 0.4437 - val_accuracy: 0.7976\n",
      "Epoch 20/100\n",
      "313/313 [==============================] - 4s 14ms/step - loss: 0.4272 - accuracy: 0.8078 - val_loss: 0.4413 - val_accuracy: 0.7996\n",
      "Epoch 21/100\n",
      "313/313 [==============================] - 4s 14ms/step - loss: 0.4248 - accuracy: 0.8095 - val_loss: 0.4418 - val_accuracy: 0.7988\n",
      "Epoch 22/100\n",
      "313/313 [==============================] - 4s 14ms/step - loss: 0.4230 - accuracy: 0.8110 - val_loss: 0.4384 - val_accuracy: 0.7978\n",
      "Epoch 23/100\n",
      "313/313 [==============================] - 4s 14ms/step - loss: 0.4207 - accuracy: 0.8119 - val_loss: 0.4381 - val_accuracy: 0.7980\n",
      "Epoch 24/100\n",
      "313/313 [==============================] - 4s 14ms/step - loss: 0.4193 - accuracy: 0.8122 - val_loss: 0.4356 - val_accuracy: 0.7972\n",
      "Epoch 25/100\n",
      "313/313 [==============================] - 4s 14ms/step - loss: 0.4179 - accuracy: 0.8124 - val_loss: 0.4378 - val_accuracy: 0.7988\n",
      "Epoch 26/100\n",
      "313/313 [==============================] - 4s 14ms/step - loss: 0.4161 - accuracy: 0.8140 - val_loss: 0.4358 - val_accuracy: 0.7960\n",
      "Epoch 27/100\n",
      "313/313 [==============================] - 4s 14ms/step - loss: 0.4155 - accuracy: 0.8141 - val_loss: 0.4340 - val_accuracy: 0.8006\n",
      "Epoch 28/100\n",
      "313/313 [==============================] - 4s 14ms/step - loss: 0.4142 - accuracy: 0.8136 - val_loss: 0.4338 - val_accuracy: 0.7992\n",
      "Epoch 29/100\n",
      "313/313 [==============================] - 4s 14ms/step - loss: 0.4129 - accuracy: 0.8158 - val_loss: 0.4351 - val_accuracy: 0.7948\n",
      "Epoch 30/100\n",
      "313/313 [==============================] - 4s 14ms/step - loss: 0.4119 - accuracy: 0.8146 - val_loss: 0.4380 - val_accuracy: 0.7976\n",
      "Epoch 31/100\n",
      "313/313 [==============================] - 4s 14ms/step - loss: 0.4114 - accuracy: 0.8160 - val_loss: 0.4350 - val_accuracy: 0.7974\n"
     ]
    }
   ],
   "source": [
    "rmsprop = keras.optimizers.RMSprop(learning_rate=1e-4)\n",
    "\n",
    "model.compile(optimizer=rmsprop, loss='binary_crossentropy',\n",
    "              metrics=['accuracy'])\n",
    "\n",
    "checkpoint_cb = keras.callbacks.ModelCheckpoint('h5/best-lstm-model.h5',\n",
    "                                                save_best_only=True)\n",
    "early_stopping_cb = keras.callbacks.EarlyStopping(patience=3,\n",
    "                                                  restore_best_weights=True)\n",
    "\n",
    "history = model.fit(train_seq, train_target, epochs=100, batch_size=64,\n",
    "                    validation_data=(val_seq, val_target),\n",
    "                    callbacks=[checkpoint_cb, early_stopping_cb])"
   ],
   "metadata": {
    "collapsed": false,
    "ExecuteTime": {
     "end_time": "2023-11-07T05:35:31.990775600Z",
     "start_time": "2023-11-07T05:33:13.275733300Z"
    }
   },
   "id": "1985b7faeef49cf0"
  },
  {
   "cell_type": "code",
   "execution_count": 6,
   "outputs": [
    {
     "data": {
      "text/plain": "<Figure size 640x480 with 1 Axes>",
      "image/png": "[encoded data removed]"
     },
     "metadata": {},
     "output_type": "display_data"
    }
   ],
   "source": [
    "import matplotlib.pyplot as plt\n",
    "\n",
    "plt.plot(history.history['loss'])\n",
    "plt.plot(history.history['val_loss'])\n",
    "plt.xlabel('epoch')\n",
    "plt.ylabel('loss')\n",
    "plt.legend(['train', 'val'])\n",
    "plt.show()"
   ],
   "metadata": {
    "collapsed": false,
    "ExecuteTime": {
     "end_time": "2023-11-07T05:37:58.715775700Z",
     "start_time": "2023-11-07T05:37:58.430215800Z"
    }
   },
   "id": "8a0fb93910cc98b9"
  },
  {
   "cell_type": "code",
   "execution_count": null,
   "outputs": [],
   "source": [],
   "metadata": {
    "collapsed": false
   },
   "id": "13c0470ccf1597eb"
  }
 ],
 "metadata": {
  "kernelspec": {
   "display_name": "Python 3",
   "language": "python",
   "name": "python3"
  },
  "language_info": {
   "codemirror_mode": {
    "name": "ipython",
    "version": 2
   },
   "file_extension": ".py",
   "mimetype": "text/x-python",
   "name": "python",
   "nbconvert_exporter": "python",
   "pygments_lexer": "ipython2",
   "version": "2.7.6"
  }
 },
 "nbformat": 4,
 "nbformat_minor": 5
}
