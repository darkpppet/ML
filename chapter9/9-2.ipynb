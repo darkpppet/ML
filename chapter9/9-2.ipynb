{
 "cells": [
  {
   "cell_type": "code",
   "execution_count": 1,
   "id": "initial_id",
   "metadata": {
    "collapsed": true,
    "ExecuteTime": {
     "end_time": "2023-11-07T04:18:21.351042200Z",
     "start_time": "2023-11-07T04:18:15.234499900Z"
    }
   },
   "outputs": [
    {
     "name": "stdout",
     "output_type": "stream",
     "text": [
      "Downloading data from https://storage.googleapis.com/tensorflow/tf-keras-datasets/imdb.npz\n",
      "17464789/17464789 [==============================] - 2s 0us/step\n"
     ]
    }
   ],
   "source": [
    "from tensorflow.keras.datasets import imdb\n",
    "\n",
    "(train_input, train_target), (test_input, test_target) = imdb.load_data(\n",
    "    num_words=500)"
   ]
  },
  {
   "cell_type": "code",
   "execution_count": 8,
   "outputs": [],
   "source": [
    "from sklearn.model_selection import train_test_split\n",
    "\n",
    "train_input, val_input, train_target, val_target = train_test_split(\n",
    "    train_input, train_target, test_size=0.2)"
   ],
   "metadata": {
    "collapsed": false,
    "ExecuteTime": {
     "end_time": "2023-11-07T04:22:37.174677200Z",
     "start_time": "2023-11-07T04:22:35.752797100Z"
    }
   },
   "id": "9fbb3423db8dfa89"
  },
  {
   "cell_type": "code",
   "execution_count": 9,
   "outputs": [],
   "source": [
    "import numpy as np\n",
    "\n",
    "lengths = np.array([len(x) for x in train_input])"
   ],
   "metadata": {
    "collapsed": false,
    "ExecuteTime": {
     "end_time": "2023-11-07T04:23:05.994825100Z",
     "start_time": "2023-11-07T04:23:05.973844500Z"
    }
   },
   "id": "3575274b5f13b7cc"
  },
  {
   "cell_type": "code",
   "execution_count": 11,
   "outputs": [
    {
     "data": {
      "text/plain": "<Figure size 640x480 with 1 Axes>",
      "image/png": "[encoded data removed]"
     },
     "metadata": {},
     "output_type": "display_data"
    }
   ],
   "source": [
    "import matplotlib.pyplot as plt\n",
    "\n",
    "plt.hist(lengths)\n",
    "plt.xlabel('length')\n",
    "plt.ylabel('frequency')\n",
    "plt.show()"
   ],
   "metadata": {
    "collapsed": false,
    "ExecuteTime": {
     "end_time": "2023-11-07T04:23:59.575611100Z",
     "start_time": "2023-11-07T04:23:58.894264600Z"
    }
   },
   "id": "3f5fd2cb6cdaa7e1"
  },
  {
   "cell_type": "code",
   "execution_count": 14,
   "outputs": [],
   "source": [
    "from tensorflow.keras.preprocessing.sequence import pad_sequences\n",
    "\n",
    "train_seq = pad_sequences(train_input, maxlen=100)\n",
    "val_seq = pad_sequences(val_input, maxlen=100)"
   ],
   "metadata": {
    "collapsed": false,
    "ExecuteTime": {
     "end_time": "2023-11-07T04:26:09.436953900Z",
     "start_time": "2023-11-07T04:26:09.342215900Z"
    }
   },
   "id": "4de62a546bb6cfaa"
  },
  {
   "cell_type": "code",
   "execution_count": 15,
   "outputs": [],
   "source": [
    "from tensorflow import keras\n",
    "\n",
    "model = keras.Sequential()\n",
    "model.add(keras.layers.SimpleRNN(8, input_shape=(100, 500)))\n",
    "model.add(keras.layers.Dense(1, activation='sigmoid'))"
   ],
   "metadata": {
    "collapsed": false,
    "ExecuteTime": {
     "end_time": "2023-11-07T04:27:19.740105700Z",
     "start_time": "2023-11-07T04:27:19.624191100Z"
    }
   },
   "id": "349bfd4baec6f75f"
  },
  {
   "cell_type": "code",
   "execution_count": 17,
   "outputs": [],
   "source": [
    "train_oh = keras.utils.to_categorical(train_seq)\n",
    "val_oh = keras.utils.to_categorical(val_seq)"
   ],
   "metadata": {
    "collapsed": false,
    "ExecuteTime": {
     "end_time": "2023-11-07T04:29:39.495987800Z",
     "start_time": "2023-11-07T04:29:38.835967200Z"
    }
   },
   "id": "e7b87758d6b46d76"
  },
  {
   "cell_type": "code",
   "execution_count": 18,
   "outputs": [
    {
     "name": "stdout",
     "output_type": "stream",
     "text": [
      "Model: \"sequential\"\n",
      "_________________________________________________________________\n",
      " Layer (type)                Output Shape              Param #   \n",
      "=================================================================\n",
      " simple_rnn (SimpleRNN)      (None, 8)                 4072      \n",
      "                                                                 \n",
      " dense (Dense)               (None, 1)                 9         \n",
      "                                                                 \n",
      "=================================================================\n",
      "Total params: 4081 (15.94 KB)\n",
      "Trainable params: 4081 (15.94 KB)\n",
      "Non-trainable params: 0 (0.00 Byte)\n",
      "_________________________________________________________________\n"
     ]
    }
   ],
   "source": [
    "model.summary()"
   ],
   "metadata": {
    "collapsed": false,
    "ExecuteTime": {
     "end_time": "2023-11-07T04:29:42.933266100Z",
     "start_time": "2023-11-07T04:29:42.924838200Z"
    }
   },
   "id": "9a907777697fcccc"
  },
  {
   "cell_type": "code",
   "execution_count": 19,
   "outputs": [
    {
     "name": "stdout",
     "output_type": "stream",
     "text": [
      "Epoch 1/100\n",
      "313/313 [==============================] - 5s 14ms/step - loss: 0.6974 - accuracy: 0.5123 - val_loss: 0.6950 - val_accuracy: 0.5128\n",
      "Epoch 2/100\n",
      " 16/313 [>.............................] - ETA: 3s - loss: 0.6962 - accuracy: 0.5088"
     ]
    },
    {
     "name": "stderr",
     "output_type": "stream",
     "text": [
      "C:\\Users\\gyeol\\AppData\\Local\\Programs\\Python\\Python311\\Lib\\site-packages\\keras\\src\\engine\\training.py:3079: UserWarning: You are saving your model as an HDF5 file via `model.save()`. This file format is considered legacy. We recommend using instead the native Keras format, e.g. `model.save('my_model.keras')`.\n",
      "  saving_api.save_model(\n"
     ]
    },
    {
     "name": "stdout",
     "output_type": "stream",
     "text": [
      "313/313 [==============================] - 4s 12ms/step - loss: 0.6845 - accuracy: 0.5584 - val_loss: 0.6783 - val_accuracy: 0.5732\n",
      "Epoch 3/100\n",
      "313/313 [==============================] - 4s 12ms/step - loss: 0.6683 - accuracy: 0.6055 - val_loss: 0.6656 - val_accuracy: 0.6090\n",
      "Epoch 4/100\n",
      "313/313 [==============================] - 4s 13ms/step - loss: 0.6545 - accuracy: 0.6338 - val_loss: 0.6523 - val_accuracy: 0.6424\n",
      "Epoch 5/100\n",
      "313/313 [==============================] - 4s 13ms/step - loss: 0.6390 - accuracy: 0.6645 - val_loss: 0.6370 - val_accuracy: 0.6672\n",
      "Epoch 6/100\n",
      "313/313 [==============================] - 4s 11ms/step - loss: 0.6207 - accuracy: 0.6931 - val_loss: 0.6191 - val_accuracy: 0.6862\n",
      "Epoch 7/100\n",
      "313/313 [==============================] - 4s 12ms/step - loss: 0.6026 - accuracy: 0.7133 - val_loss: 0.6023 - val_accuracy: 0.7104\n",
      "Epoch 8/100\n",
      "313/313 [==============================] - 4s 12ms/step - loss: 0.5852 - accuracy: 0.7310 - val_loss: 0.5872 - val_accuracy: 0.7194\n",
      "Epoch 9/100\n",
      "313/313 [==============================] - 4s 11ms/step - loss: 0.5694 - accuracy: 0.7437 - val_loss: 0.5717 - val_accuracy: 0.7322\n",
      "Epoch 10/100\n",
      "313/313 [==============================] - 4s 12ms/step - loss: 0.5546 - accuracy: 0.7527 - val_loss: 0.5605 - val_accuracy: 0.7454\n",
      "Epoch 11/100\n",
      "313/313 [==============================] - 4s 11ms/step - loss: 0.5416 - accuracy: 0.7626 - val_loss: 0.5464 - val_accuracy: 0.7472\n",
      "Epoch 12/100\n",
      "313/313 [==============================] - 4s 11ms/step - loss: 0.5291 - accuracy: 0.7692 - val_loss: 0.5393 - val_accuracy: 0.7520\n",
      "Epoch 13/100\n",
      "313/313 [==============================] - 4s 11ms/step - loss: 0.5182 - accuracy: 0.7738 - val_loss: 0.5279 - val_accuracy: 0.7550\n",
      "Epoch 14/100\n",
      "313/313 [==============================] - 4s 12ms/step - loss: 0.5074 - accuracy: 0.7799 - val_loss: 0.5185 - val_accuracy: 0.7606\n",
      "Epoch 15/100\n",
      "313/313 [==============================] - 4s 14ms/step - loss: 0.4978 - accuracy: 0.7858 - val_loss: 0.5129 - val_accuracy: 0.7626\n",
      "Epoch 16/100\n",
      "313/313 [==============================] - 5s 16ms/step - loss: 0.4888 - accuracy: 0.7871 - val_loss: 0.5039 - val_accuracy: 0.7706\n",
      "Epoch 17/100\n",
      "313/313 [==============================] - 4s 11ms/step - loss: 0.4807 - accuracy: 0.7910 - val_loss: 0.5008 - val_accuracy: 0.7732\n",
      "Epoch 18/100\n",
      "313/313 [==============================] - 4s 12ms/step - loss: 0.4734 - accuracy: 0.7965 - val_loss: 0.4952 - val_accuracy: 0.7708\n",
      "Epoch 19/100\n",
      "313/313 [==============================] - 4s 11ms/step - loss: 0.4673 - accuracy: 0.7979 - val_loss: 0.4865 - val_accuracy: 0.7768\n",
      "Epoch 20/100\n",
      "313/313 [==============================] - 4s 12ms/step - loss: 0.4613 - accuracy: 0.8008 - val_loss: 0.4858 - val_accuracy: 0.7796\n",
      "Epoch 21/100\n",
      "313/313 [==============================] - 4s 12ms/step - loss: 0.4561 - accuracy: 0.8019 - val_loss: 0.4783 - val_accuracy: 0.7878\n",
      "Epoch 22/100\n",
      "313/313 [==============================] - 4s 12ms/step - loss: 0.4513 - accuracy: 0.8042 - val_loss: 0.4750 - val_accuracy: 0.7826\n",
      "Epoch 23/100\n",
      "313/313 [==============================] - 4s 11ms/step - loss: 0.4467 - accuracy: 0.8057 - val_loss: 0.4754 - val_accuracy: 0.7802\n",
      "Epoch 24/100\n",
      "313/313 [==============================] - 4s 12ms/step - loss: 0.4436 - accuracy: 0.8067 - val_loss: 0.4702 - val_accuracy: 0.7862\n",
      "Epoch 25/100\n",
      "313/313 [==============================] - 4s 12ms/step - loss: 0.4398 - accuracy: 0.8081 - val_loss: 0.4663 - val_accuracy: 0.7874\n",
      "Epoch 26/100\n",
      "313/313 [==============================] - 4s 13ms/step - loss: 0.4362 - accuracy: 0.8109 - val_loss: 0.4641 - val_accuracy: 0.7908\n",
      "Epoch 27/100\n",
      "313/313 [==============================] - 4s 14ms/step - loss: 0.4335 - accuracy: 0.8113 - val_loss: 0.4614 - val_accuracy: 0.7898\n",
      "Epoch 28/100\n",
      "313/313 [==============================] - 4s 14ms/step - loss: 0.4310 - accuracy: 0.8122 - val_loss: 0.4643 - val_accuracy: 0.7864\n",
      "Epoch 29/100\n",
      "313/313 [==============================] - 4s 14ms/step - loss: 0.4288 - accuracy: 0.8135 - val_loss: 0.4597 - val_accuracy: 0.7896\n",
      "Epoch 30/100\n",
      "313/313 [==============================] - 4s 14ms/step - loss: 0.4262 - accuracy: 0.8156 - val_loss: 0.4639 - val_accuracy: 0.7872\n",
      "Epoch 31/100\n",
      "313/313 [==============================] - 4s 14ms/step - loss: 0.4243 - accuracy: 0.8157 - val_loss: 0.4575 - val_accuracy: 0.7916\n",
      "Epoch 32/100\n",
      "313/313 [==============================] - 4s 14ms/step - loss: 0.4218 - accuracy: 0.8176 - val_loss: 0.4574 - val_accuracy: 0.7918\n",
      "Epoch 33/100\n",
      "313/313 [==============================] - 4s 14ms/step - loss: 0.4201 - accuracy: 0.8178 - val_loss: 0.4612 - val_accuracy: 0.7862\n",
      "Epoch 34/100\n",
      "313/313 [==============================] - 4s 14ms/step - loss: 0.4185 - accuracy: 0.8175 - val_loss: 0.4553 - val_accuracy: 0.7900\n",
      "Epoch 35/100\n",
      "313/313 [==============================] - 4s 14ms/step - loss: 0.4165 - accuracy: 0.8198 - val_loss: 0.4617 - val_accuracy: 0.7858\n",
      "Epoch 36/100\n",
      "313/313 [==============================] - 4s 14ms/step - loss: 0.4158 - accuracy: 0.8181 - val_loss: 0.4530 - val_accuracy: 0.7894\n",
      "Epoch 37/100\n",
      "313/313 [==============================] - 4s 14ms/step - loss: 0.4142 - accuracy: 0.8215 - val_loss: 0.4581 - val_accuracy: 0.7868\n",
      "Epoch 38/100\n",
      "313/313 [==============================] - 4s 14ms/step - loss: 0.4134 - accuracy: 0.8199 - val_loss: 0.4537 - val_accuracy: 0.7862\n",
      "Epoch 39/100\n",
      "313/313 [==============================] - 4s 13ms/step - loss: 0.4120 - accuracy: 0.8202 - val_loss: 0.4543 - val_accuracy: 0.7862\n"
     ]
    }
   ],
   "source": [
    "rmsprop = keras.optimizers.RMSprop(learning_rate=1e-4)\n",
    "\n",
    "model.compile(optimizer=rmsprop, loss='binary_crossentropy',\n",
    "              metrics=['accuracy'])\n",
    "\n",
    "checkpoint_cb = keras.callbacks.ModelCheckpoint('h5/best-simplernn-model.h5',\n",
    "                                                save_best_only=True)\n",
    "early_stopping_cb = keras.callbacks.EarlyStopping(patience=3,\n",
    "                                                  restore_best_weights=True)\n",
    "\n",
    "history = model.fit(train_oh, train_target, epochs=100, batch_size=64,\n",
    "                    validation_data=(val_oh, val_target),\n",
    "                    callbacks=[checkpoint_cb, early_stopping_cb])"
   ],
   "metadata": {
    "collapsed": false,
    "ExecuteTime": {
     "end_time": "2023-11-07T04:36:15.047023Z",
     "start_time": "2023-11-07T04:33:38.184300300Z"
    }
   },
   "id": "be429a890b789a10"
  },
  {
   "cell_type": "code",
   "execution_count": 20,
   "outputs": [
    {
     "data": {
      "text/plain": "<Figure size 640x480 with 1 Axes>",
      "image/png": "[encoded data removed]"
     },
     "metadata": {},
     "output_type": "display_data"
    }
   ],
   "source": [
    "plt.plot(history.history['loss'])\n",
    "plt.plot(history.history['val_loss'])\n",
    "plt.xlabel('epoch')\n",
    "plt.ylabel('loss')\n",
    "plt.legend(['train', 'val'])\n",
    "plt.show()"
   ],
   "metadata": {
    "collapsed": false,
    "ExecuteTime": {
     "end_time": "2023-11-07T04:37:40.679530900Z",
     "start_time": "2023-11-07T04:37:40.611264500Z"
    }
   },
   "id": "4ad2d98e5f54c6af"
  },
  {
   "cell_type": "code",
   "execution_count": 37,
   "outputs": [],
   "source": [
    "model2 = keras.Sequential()\n",
    "model2.add(keras.layers.Embedding(500, 16, input_length=100))\n",
    "model2.add(keras.layers.SimpleRNN(8))\n",
    "model2.add(keras.layers.Dense(1, activation='sigmoid'))"
   ],
   "metadata": {
    "collapsed": false,
    "ExecuteTime": {
     "end_time": "2023-11-07T05:01:14.847090500Z",
     "start_time": "2023-11-07T05:01:14.800128100Z"
    }
   },
   "id": "f11bba70a43dfeed"
  },
  {
   "cell_type": "code",
   "execution_count": 38,
   "outputs": [
    {
     "name": "stdout",
     "output_type": "stream",
     "text": [
      "Model: \"sequential_2\"\n",
      "_________________________________________________________________\n",
      " Layer (type)                Output Shape              Param #   \n",
      "=================================================================\n",
      " embedding_1 (Embedding)     (None, 100, 16)           8000      \n",
      "                                                                 \n",
      " simple_rnn_2 (SimpleRNN)    (None, 8)                 200       \n",
      "                                                                 \n",
      " dense_2 (Dense)             (None, 1)                 9         \n",
      "                                                                 \n",
      "=================================================================\n",
      "Total params: 8209 (32.07 KB)\n",
      "Trainable params: 8209 (32.07 KB)\n",
      "Non-trainable params: 0 (0.00 Byte)\n",
      "_________________________________________________________________\n"
     ]
    }
   ],
   "source": [
    "model2.summary()"
   ],
   "metadata": {
    "collapsed": false,
    "ExecuteTime": {
     "end_time": "2023-11-07T05:01:16.384315400Z",
     "start_time": "2023-11-07T05:01:16.374798200Z"
    }
   },
   "id": "cba4c32d40b2889f"
  },
  {
   "cell_type": "code",
   "execution_count": 50,
   "outputs": [
    {
     "name": "stdout",
     "output_type": "stream",
     "text": [
      "Epoch 1/100\n",
      "313/313 [==============================] - 3s 8ms/step - loss: 0.4932 - accuracy: 0.7658 - val_loss: 0.7211 - val_accuracy: 0.6080\n",
      "Epoch 2/100\n",
      "313/313 [==============================] - 2s 8ms/step - loss: 0.4914 - accuracy: 0.7670 - val_loss: 0.7238 - val_accuracy: 0.6092\n",
      "Epoch 3/100\n",
      "313/313 [==============================] - 2s 8ms/step - loss: 0.4899 - accuracy: 0.7681 - val_loss: 0.7248 - val_accuracy: 0.6118\n",
      "Epoch 4/100\n",
      "313/313 [==============================] - 2s 8ms/step - loss: 0.4883 - accuracy: 0.7697 - val_loss: 0.7270 - val_accuracy: 0.6110\n"
     ]
    }
   ],
   "source": [
    "rmsprop = keras.optimizers.RMSprop(learning_rate=1e-4)\n",
    "\n",
    "model2.compile(optimizer=rmsprop, loss='binary_crossentropy',\n",
    "              metrics=['accuracy'])\n",
    "\n",
    "checkpoint_cb = keras.callbacks.ModelCheckpoint('h5/best-embedding-model.h5',\n",
    "                                                save_best_only=True)\n",
    "early_stopping_cb = keras.callbacks.EarlyStopping(patience=3,\n",
    "                                                  restore_best_weights=True)\n",
    "\n",
    "history = model2.fit(train_seq, train_target, epochs=100, batch_size=64,\n",
    "                    validation_data=(val_seq, val_target),\n",
    "                    callbacks=[checkpoint_cb, early_stopping_cb])"
   ],
   "metadata": {
    "collapsed": false,
    "ExecuteTime": {
     "end_time": "2023-11-07T05:12:09.738589500Z",
     "start_time": "2023-11-07T05:11:59.158362Z"
    }
   },
   "id": "e90f338343a34d60"
  },
  {
   "cell_type": "code",
   "execution_count": 51,
   "outputs": [
    {
     "data": {
      "text/plain": "<Figure size 640x480 with 1 Axes>",
      "image/png": "[encoded data removed]"
     },
     "metadata": {},
     "output_type": "display_data"
    }
   ],
   "source": [
    "plt.plot(history.history['loss'])\n",
    "plt.plot(history.history['val_loss'])\n",
    "plt.xlabel('epoch')\n",
    "plt.ylabel('loss')\n",
    "plt.legend(['train', 'val'])\n",
    "plt.show()"
   ],
   "metadata": {
    "collapsed": false,
    "ExecuteTime": {
     "end_time": "2023-11-07T05:12:14.708660600Z",
     "start_time": "2023-11-07T05:12:14.641130300Z"
    }
   },
   "id": "de18626d56a7213c"
  },
  {
   "cell_type": "code",
   "execution_count": null,
   "outputs": [],
   "source": [],
   "metadata": {
    "collapsed": false
   },
   "id": "1f2826a3c33f01fc"
  }
 ],
 "metadata": {
  "kernelspec": {
   "display_name": "Python 3",
   "language": "python",
   "name": "python3"
  },
  "language_info": {
   "codemirror_mode": {
    "name": "ipython",
    "version": 2
   },
   "file_extension": ".py",
   "mimetype": "text/x-python",
   "name": "python",
   "nbconvert_exporter": "python",
   "pygments_lexer": "ipython2",
   "version": "2.7.6"
  }
 },
 "nbformat": 4,
 "nbformat_minor": 5
}
