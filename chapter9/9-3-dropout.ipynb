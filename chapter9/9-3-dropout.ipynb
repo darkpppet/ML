{
 "cells": [
  {
   "cell_type": "code",
   "execution_count": 1,
   "id": "initial_id",
   "metadata": {
    "collapsed": true,
    "ExecuteTime": {
     "end_time": "2023-11-07T06:15:11.941791100Z",
     "start_time": "2023-11-07T06:15:07.015940200Z"
    }
   },
   "outputs": [],
   "source": [
    "from tensorflow.keras.datasets import imdb\n",
    "from tensorflow.keras.preprocessing.sequence import pad_sequences\n",
    "from sklearn.model_selection import train_test_split\n",
    "\n",
    "(train_input, train_target), (test_input, test_target) = imdb.load_data(\n",
    "    num_words=500)\n",
    "train_input, val_input, train_target, val_target = train_test_split(\n",
    "    train_input, train_target, test_size=0.2)\n",
    "\n",
    "train_seq = pad_sequences(train_input, maxlen=100)\n",
    "val_seq = pad_sequences(val_input, maxlen=100)"
   ]
  },
  {
   "cell_type": "code",
   "execution_count": 2,
   "outputs": [],
   "source": [
    "from tensorflow import keras\n",
    "\n",
    "model2 = keras.Sequential()\n",
    "model2.add(keras.layers.Embedding(500, 16, input_length=100))\n",
    "model2.add(keras.layers.LSTM(8, dropout=0.3))\n",
    "model2.add(keras.layers.Dense(1, activation='sigmoid'))"
   ],
   "metadata": {
    "collapsed": false,
    "ExecuteTime": {
     "end_time": "2023-11-07T06:15:12.127251800Z",
     "start_time": "2023-11-07T06:15:11.942799600Z"
    }
   },
   "id": "f5bb1f5978813f25"
  },
  {
   "cell_type": "code",
   "execution_count": 5,
   "outputs": [
    {
     "name": "stdout",
     "output_type": "stream",
     "text": [
      "Model: \"sequential\"\n",
      "_________________________________________________________________\n",
      " Layer (type)                Output Shape              Param #   \n",
      "=================================================================\n",
      " embedding (Embedding)       (None, 100, 16)           8000      \n",
      "                                                                 \n",
      " lstm (LSTM)                 (None, 8)                 800       \n",
      "                                                                 \n",
      " dense (Dense)               (None, 1)                 9         \n",
      "                                                                 \n",
      "=================================================================\n",
      "Total params: 8809 (34.41 KB)\n",
      "Trainable params: 8809 (34.41 KB)\n",
      "Non-trainable params: 0 (0.00 Byte)\n",
      "_________________________________________________________________\n"
     ]
    }
   ],
   "source": [
    "model2.summary()"
   ],
   "metadata": {
    "collapsed": false,
    "ExecuteTime": {
     "end_time": "2023-11-07T06:20:33.439290Z",
     "start_time": "2023-11-07T06:20:33.421285400Z"
    }
   },
   "id": "d6b46e88534c4c61"
  },
  {
   "cell_type": "code",
   "execution_count": 3,
   "outputs": [
    {
     "name": "stdout",
     "output_type": "stream",
     "text": [
      "Epoch 1/100\n",
      "313/313 [==============================] - 7s 17ms/step - loss: 0.6926 - accuracy: 0.5256 - val_loss: 0.6923 - val_accuracy: 0.5328\n",
      "Epoch 2/100\n",
      "  9/313 [..............................] - ETA: 4s - loss: 0.6920 - accuracy: 0.5295"
     ]
    },
    {
     "name": "stderr",
     "output_type": "stream",
     "text": [
      "C:\\Users\\gyeol\\AppData\\Local\\Programs\\Python\\Python311\\Lib\\site-packages\\keras\\src\\engine\\training.py:3079: UserWarning: You are saving your model as an HDF5 file via `model.save()`. This file format is considered legacy. We recommend using instead the native Keras format, e.g. `model.save('my_model.keras')`.\n",
      "  saving_api.save_model(\n"
     ]
    },
    {
     "name": "stdout",
     "output_type": "stream",
     "text": [
      "313/313 [==============================] - 5s 15ms/step - loss: 0.6913 - accuracy: 0.5572 - val_loss: 0.6909 - val_accuracy: 0.5502\n",
      "Epoch 3/100\n",
      "313/313 [==============================] - 5s 15ms/step - loss: 0.6894 - accuracy: 0.5635 - val_loss: 0.6885 - val_accuracy: 0.5730\n",
      "Epoch 4/100\n",
      "313/313 [==============================] - 5s 16ms/step - loss: 0.6863 - accuracy: 0.5890 - val_loss: 0.6844 - val_accuracy: 0.5998\n",
      "Epoch 5/100\n",
      "313/313 [==============================] - 5s 15ms/step - loss: 0.6807 - accuracy: 0.6107 - val_loss: 0.6766 - val_accuracy: 0.6334\n",
      "Epoch 6/100\n",
      "313/313 [==============================] - 5s 15ms/step - loss: 0.6693 - accuracy: 0.6392 - val_loss: 0.6600 - val_accuracy: 0.6560\n",
      "Epoch 7/100\n",
      "313/313 [==============================] - 5s 15ms/step - loss: 0.6395 - accuracy: 0.6798 - val_loss: 0.6094 - val_accuracy: 0.7200\n",
      "Epoch 8/100\n",
      "313/313 [==============================] - 5s 16ms/step - loss: 0.5830 - accuracy: 0.7200 - val_loss: 0.5695 - val_accuracy: 0.7210\n",
      "Epoch 9/100\n",
      "313/313 [==============================] - 5s 15ms/step - loss: 0.5568 - accuracy: 0.7347 - val_loss: 0.5444 - val_accuracy: 0.7424\n",
      "Epoch 10/100\n",
      "313/313 [==============================] - 5s 15ms/step - loss: 0.5379 - accuracy: 0.7479 - val_loss: 0.5360 - val_accuracy: 0.7438\n",
      "Epoch 11/100\n",
      "313/313 [==============================] - 5s 15ms/step - loss: 0.5225 - accuracy: 0.7602 - val_loss: 0.5132 - val_accuracy: 0.7652\n",
      "Epoch 12/100\n",
      "313/313 [==============================] - 5s 15ms/step - loss: 0.5068 - accuracy: 0.7706 - val_loss: 0.5026 - val_accuracy: 0.7636\n",
      "Epoch 13/100\n",
      "313/313 [==============================] - 5s 15ms/step - loss: 0.4955 - accuracy: 0.7760 - val_loss: 0.4909 - val_accuracy: 0.7718\n",
      "Epoch 14/100\n",
      "313/313 [==============================] - 5s 15ms/step - loss: 0.4856 - accuracy: 0.7805 - val_loss: 0.4906 - val_accuracy: 0.7672\n",
      "Epoch 15/100\n",
      "313/313 [==============================] - 5s 15ms/step - loss: 0.4773 - accuracy: 0.7836 - val_loss: 0.4791 - val_accuracy: 0.7756\n",
      "Epoch 16/100\n",
      "313/313 [==============================] - 5s 15ms/step - loss: 0.4683 - accuracy: 0.7897 - val_loss: 0.4681 - val_accuracy: 0.7840\n",
      "Epoch 17/100\n",
      "313/313 [==============================] - 5s 15ms/step - loss: 0.4615 - accuracy: 0.7921 - val_loss: 0.4621 - val_accuracy: 0.7878\n",
      "Epoch 18/100\n",
      "313/313 [==============================] - 5s 16ms/step - loss: 0.4561 - accuracy: 0.7954 - val_loss: 0.4575 - val_accuracy: 0.7886\n",
      "Epoch 19/100\n",
      "313/313 [==============================] - 5s 15ms/step - loss: 0.4504 - accuracy: 0.7972 - val_loss: 0.4538 - val_accuracy: 0.7902\n",
      "Epoch 20/100\n",
      "313/313 [==============================] - 5s 15ms/step - loss: 0.4484 - accuracy: 0.7949 - val_loss: 0.4538 - val_accuracy: 0.7876\n",
      "Epoch 21/100\n",
      "313/313 [==============================] - 5s 15ms/step - loss: 0.4434 - accuracy: 0.7982 - val_loss: 0.4474 - val_accuracy: 0.7908\n",
      "Epoch 22/100\n",
      "313/313 [==============================] - 5s 16ms/step - loss: 0.4412 - accuracy: 0.8004 - val_loss: 0.4457 - val_accuracy: 0.7926\n",
      "Epoch 23/100\n",
      "313/313 [==============================] - 5s 16ms/step - loss: 0.4380 - accuracy: 0.8008 - val_loss: 0.4497 - val_accuracy: 0.7866\n",
      "Epoch 24/100\n",
      "313/313 [==============================] - 5s 15ms/step - loss: 0.4357 - accuracy: 0.8030 - val_loss: 0.4422 - val_accuracy: 0.7922\n",
      "Epoch 25/100\n",
      "313/313 [==============================] - 5s 15ms/step - loss: 0.4335 - accuracy: 0.8039 - val_loss: 0.4413 - val_accuracy: 0.7902\n",
      "Epoch 26/100\n",
      "313/313 [==============================] - 5s 15ms/step - loss: 0.4327 - accuracy: 0.8027 - val_loss: 0.4388 - val_accuracy: 0.7932\n",
      "Epoch 27/100\n",
      "313/313 [==============================] - 5s 15ms/step - loss: 0.4299 - accuracy: 0.8059 - val_loss: 0.4399 - val_accuracy: 0.7934\n",
      "Epoch 28/100\n",
      "313/313 [==============================] - 5s 15ms/step - loss: 0.4291 - accuracy: 0.8066 - val_loss: 0.4359 - val_accuracy: 0.7964\n",
      "Epoch 29/100\n",
      "313/313 [==============================] - 5s 15ms/step - loss: 0.4279 - accuracy: 0.8046 - val_loss: 0.4366 - val_accuracy: 0.7978\n",
      "Epoch 30/100\n",
      "313/313 [==============================] - 5s 15ms/step - loss: 0.4264 - accuracy: 0.8067 - val_loss: 0.4369 - val_accuracy: 0.7944\n",
      "Epoch 31/100\n",
      "313/313 [==============================] - 5s 15ms/step - loss: 0.4259 - accuracy: 0.8063 - val_loss: 0.4382 - val_accuracy: 0.7926\n"
     ]
    }
   ],
   "source": [
    "rmsprop = keras.optimizers.RMSprop(learning_rate=1e-4)\n",
    "\n",
    "model2.compile(optimizer=rmsprop, loss='binary_crossentropy',\n",
    "              metrics=['accuracy'])\n",
    "\n",
    "checkpoint_cb = keras.callbacks.ModelCheckpoint('h5/best-dropout-model.h5',\n",
    "                                                save_best_only=True)\n",
    "early_stopping_cb = keras.callbacks.EarlyStopping(patience=3,\n",
    "                                                  restore_best_weights=True)\n",
    "\n",
    "history = model2.fit(train_seq, train_target, epochs=100, batch_size=64,\n",
    "                    validation_data=(val_seq, val_target),\n",
    "                    callbacks=[checkpoint_cb, early_stopping_cb])"
   ],
   "metadata": {
    "collapsed": false,
    "ExecuteTime": {
     "end_time": "2023-11-07T06:17:42.333080700Z",
     "start_time": "2023-11-07T06:15:12.128754400Z"
    }
   },
   "id": "875ab79447b28661"
  },
  {
   "cell_type": "code",
   "execution_count": 4,
   "outputs": [
    {
     "data": {
      "text/plain": "<Figure size 640x480 with 1 Axes>",
      "image/png": "[encoded data removed]"
     },
     "metadata": {},
     "output_type": "display_data"
    }
   ],
   "source": [
    "import matplotlib.pyplot as plt\n",
    "\n",
    "plt.plot(history.history['loss'])\n",
    "plt.plot(history.history['val_loss'])\n",
    "plt.xlabel('epoch')\n",
    "plt.ylabel('loss')\n",
    "plt.legend(['train', 'val'])\n",
    "plt.show()"
   ],
   "metadata": {
    "collapsed": false,
    "ExecuteTime": {
     "end_time": "2023-11-07T06:17:42.602634Z",
     "start_time": "2023-11-07T06:17:42.329507800Z"
    }
   },
   "id": "e726815c49dcfb68"
  }
 ],
 "metadata": {
  "kernelspec": {
   "display_name": "Python 3",
   "language": "python",
   "name": "python3"
  },
  "language_info": {
   "codemirror_mode": {
    "name": "ipython",
    "version": 2
   },
   "file_extension": ".py",
   "mimetype": "text/x-python",
   "name": "python",
   "nbconvert_exporter": "python",
   "pygments_lexer": "ipython2",
   "version": "2.7.6"
  }
 },
 "nbformat": 4,
 "nbformat_minor": 5
}
