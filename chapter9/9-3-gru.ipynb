{
 "cells": [
  {
   "cell_type": "code",
   "execution_count": 1,
   "id": "initial_id",
   "metadata": {
    "collapsed": true,
    "ExecuteTime": {
     "end_time": "2023-11-07T06:24:08.038070400Z",
     "start_time": "2023-11-07T06:24:03.443969600Z"
    }
   },
   "outputs": [],
   "source": [
    "from tensorflow.keras.datasets import imdb\n",
    "from tensorflow.keras.preprocessing.sequence import pad_sequences\n",
    "from sklearn.model_selection import train_test_split\n",
    "\n",
    "(train_input, train_target), (test_input, test_target) = imdb.load_data(\n",
    "    num_words=500)\n",
    "train_input, val_input, train_target, val_target = train_test_split(\n",
    "    train_input, train_target, test_size=0.2)\n",
    "\n",
    "train_seq = pad_sequences(train_input, maxlen=100)\n",
    "val_seq = pad_sequences(val_input, maxlen=100)"
   ]
  },
  {
   "cell_type": "code",
   "execution_count": 2,
   "outputs": [],
   "source": [
    "from tensorflow import keras\n",
    "\n",
    "model4 = keras.Sequential()\n",
    "model4.add(keras.layers.Embedding(500, 16, input_length=100))\n",
    "model4.add(keras.layers.GRU(8))\n",
    "model4.add(keras.layers.Dense(1, activation='sigmoid'))"
   ],
   "metadata": {
    "collapsed": false,
    "ExecuteTime": {
     "end_time": "2023-11-07T06:24:08.202454900Z",
     "start_time": "2023-11-07T06:24:08.039079100Z"
    }
   },
   "id": "154df5374076a488"
  },
  {
   "cell_type": "code",
   "execution_count": 3,
   "outputs": [
    {
     "name": "stdout",
     "output_type": "stream",
     "text": [
      "Model: \"sequential\"\n",
      "_________________________________________________________________\n",
      " Layer (type)                Output Shape              Param #   \n",
      "=================================================================\n",
      " embedding (Embedding)       (None, 100, 16)           8000      \n",
      "                                                                 \n",
      " gru (GRU)                   (None, 8)                 624       \n",
      "                                                                 \n",
      " dense (Dense)               (None, 1)                 9         \n",
      "                                                                 \n",
      "=================================================================\n",
      "Total params: 8633 (33.72 KB)\n",
      "Trainable params: 8633 (33.72 KB)\n",
      "Non-trainable params: 0 (0.00 Byte)\n",
      "_________________________________________________________________\n"
     ]
    }
   ],
   "source": [
    "model4.summary()"
   ],
   "metadata": {
    "collapsed": false,
    "ExecuteTime": {
     "end_time": "2023-11-07T06:24:08.212478900Z",
     "start_time": "2023-11-07T06:24:08.202454900Z"
    }
   },
   "id": "5d6450cc20505de1"
  },
  {
   "cell_type": "code",
   "execution_count": 4,
   "outputs": [
    {
     "name": "stdout",
     "output_type": "stream",
     "text": [
      "Epoch 1/100\n",
      "313/313 [==============================] - 7s 17ms/step - loss: 0.6913 - accuracy: 0.5440 - val_loss: 0.6899 - val_accuracy: 0.5658\n",
      "Epoch 2/100\n",
      "  9/313 [..............................] - ETA: 4s - loss: 0.6898 - accuracy: 0.5903"
     ]
    },
    {
     "name": "stderr",
     "output_type": "stream",
     "text": [
      "C:\\Users\\gyeol\\AppData\\Local\\Programs\\Python\\Python311\\Lib\\site-packages\\keras\\src\\engine\\training.py:3079: UserWarning: You are saving your model as an HDF5 file via `model.save()`. This file format is considered legacy. We recommend using instead the native Keras format, e.g. `model.save('my_model.keras')`.\n",
      "  saving_api.save_model(\n"
     ]
    },
    {
     "name": "stdout",
     "output_type": "stream",
     "text": [
      "313/313 [==============================] - 5s 16ms/step - loss: 0.6881 - accuracy: 0.5814 - val_loss: 0.6864 - val_accuracy: 0.5812\n",
      "Epoch 3/100\n",
      "313/313 [==============================] - 5s 16ms/step - loss: 0.6836 - accuracy: 0.5963 - val_loss: 0.6814 - val_accuracy: 0.5958\n",
      "Epoch 4/100\n",
      "313/313 [==============================] - 5s 17ms/step - loss: 0.6774 - accuracy: 0.6052 - val_loss: 0.6745 - val_accuracy: 0.6064\n",
      "Epoch 5/100\n",
      "313/313 [==============================] - 5s 17ms/step - loss: 0.6688 - accuracy: 0.6181 - val_loss: 0.6649 - val_accuracy: 0.6172\n",
      "Epoch 6/100\n",
      "313/313 [==============================] - 5s 17ms/step - loss: 0.6570 - accuracy: 0.6331 - val_loss: 0.6516 - val_accuracy: 0.6280\n",
      "Epoch 7/100\n",
      "313/313 [==============================] - 5s 16ms/step - loss: 0.6407 - accuracy: 0.6503 - val_loss: 0.6338 - val_accuracy: 0.6496\n",
      "Epoch 8/100\n",
      "313/313 [==============================] - 5s 17ms/step - loss: 0.6187 - accuracy: 0.6691 - val_loss: 0.6080 - val_accuracy: 0.6704\n",
      "Epoch 9/100\n",
      "313/313 [==============================] - 5s 18ms/step - loss: 0.5867 - accuracy: 0.6969 - val_loss: 0.5667 - val_accuracy: 0.7080\n",
      "Epoch 10/100\n",
      "313/313 [==============================] - 6s 18ms/step - loss: 0.5348 - accuracy: 0.7344 - val_loss: 0.5059 - val_accuracy: 0.7490\n",
      "Epoch 11/100\n",
      "313/313 [==============================] - 5s 17ms/step - loss: 0.4934 - accuracy: 0.7631 - val_loss: 0.4815 - val_accuracy: 0.7698\n",
      "Epoch 12/100\n",
      "313/313 [==============================] - 5s 17ms/step - loss: 0.4758 - accuracy: 0.7743 - val_loss: 0.4692 - val_accuracy: 0.7796\n",
      "Epoch 13/100\n",
      "313/313 [==============================] - 6s 18ms/step - loss: 0.4637 - accuracy: 0.7820 - val_loss: 0.4670 - val_accuracy: 0.7812\n",
      "Epoch 14/100\n",
      "313/313 [==============================] - 5s 17ms/step - loss: 0.4548 - accuracy: 0.7885 - val_loss: 0.4587 - val_accuracy: 0.7866\n",
      "Epoch 15/100\n",
      "313/313 [==============================] - 5s 17ms/step - loss: 0.4485 - accuracy: 0.7944 - val_loss: 0.4527 - val_accuracy: 0.7934\n",
      "Epoch 16/100\n",
      "313/313 [==============================] - 5s 16ms/step - loss: 0.4427 - accuracy: 0.7967 - val_loss: 0.4517 - val_accuracy: 0.7900\n",
      "Epoch 17/100\n",
      "313/313 [==============================] - 5s 16ms/step - loss: 0.4390 - accuracy: 0.8001 - val_loss: 0.4480 - val_accuracy: 0.7952\n",
      "Epoch 18/100\n",
      "313/313 [==============================] - 5s 16ms/step - loss: 0.4355 - accuracy: 0.8026 - val_loss: 0.4452 - val_accuracy: 0.7984\n",
      "Epoch 19/100\n",
      "313/313 [==============================] - 5s 16ms/step - loss: 0.4327 - accuracy: 0.8041 - val_loss: 0.4446 - val_accuracy: 0.7988\n",
      "Epoch 20/100\n",
      "313/313 [==============================] - 5s 16ms/step - loss: 0.4303 - accuracy: 0.8041 - val_loss: 0.4423 - val_accuracy: 0.7972\n",
      "Epoch 21/100\n",
      "313/313 [==============================] - 5s 17ms/step - loss: 0.4283 - accuracy: 0.8061 - val_loss: 0.4420 - val_accuracy: 0.7982\n",
      "Epoch 22/100\n",
      "313/313 [==============================] - 5s 17ms/step - loss: 0.4261 - accuracy: 0.8080 - val_loss: 0.4408 - val_accuracy: 0.7972\n",
      "Epoch 23/100\n",
      "313/313 [==============================] - 5s 16ms/step - loss: 0.4251 - accuracy: 0.8099 - val_loss: 0.4395 - val_accuracy: 0.7992\n",
      "Epoch 24/100\n",
      "313/313 [==============================] - 5s 17ms/step - loss: 0.4238 - accuracy: 0.8095 - val_loss: 0.4412 - val_accuracy: 0.7964\n",
      "Epoch 25/100\n",
      "313/313 [==============================] - 5s 17ms/step - loss: 0.4230 - accuracy: 0.8107 - val_loss: 0.4383 - val_accuracy: 0.7982\n",
      "Epoch 26/100\n",
      "313/313 [==============================] - 6s 19ms/step - loss: 0.4219 - accuracy: 0.8107 - val_loss: 0.4379 - val_accuracy: 0.7988\n",
      "Epoch 27/100\n",
      "313/313 [==============================] - 5s 17ms/step - loss: 0.4210 - accuracy: 0.8103 - val_loss: 0.4369 - val_accuracy: 0.7976\n",
      "Epoch 28/100\n",
      "313/313 [==============================] - 5s 16ms/step - loss: 0.4198 - accuracy: 0.8123 - val_loss: 0.4419 - val_accuracy: 0.7996\n",
      "Epoch 29/100\n",
      "313/313 [==============================] - 5s 16ms/step - loss: 0.4197 - accuracy: 0.8109 - val_loss: 0.4380 - val_accuracy: 0.7968\n",
      "Epoch 30/100\n",
      "313/313 [==============================] - 5s 17ms/step - loss: 0.4186 - accuracy: 0.8130 - val_loss: 0.4354 - val_accuracy: 0.7984\n",
      "Epoch 31/100\n",
      "313/313 [==============================] - 5s 18ms/step - loss: 0.4180 - accuracy: 0.8130 - val_loss: 0.4427 - val_accuracy: 0.7940\n",
      "Epoch 32/100\n",
      "313/313 [==============================] - 6s 18ms/step - loss: 0.4177 - accuracy: 0.8119 - val_loss: 0.4369 - val_accuracy: 0.7960\n",
      "Epoch 33/100\n",
      "313/313 [==============================] - 5s 17ms/step - loss: 0.4172 - accuracy: 0.8123 - val_loss: 0.4355 - val_accuracy: 0.7966\n"
     ]
    }
   ],
   "source": [
    "rmsprop = keras.optimizers.RMSprop(learning_rate=1e-4)\n",
    "\n",
    "model4.compile(optimizer=rmsprop, loss='binary_crossentropy',\n",
    "              metrics=['accuracy'])\n",
    "\n",
    "checkpoint_cb = keras.callbacks.ModelCheckpoint('h5/best-gru-model.h5',\n",
    "                                                save_best_only=True)\n",
    "early_stopping_cb = keras.callbacks.EarlyStopping(patience=3,\n",
    "                                                  restore_best_weights=True)\n",
    "\n",
    "history = model4.fit(train_seq, train_target, epochs=100, batch_size=64,\n",
    "                    validation_data=(val_seq, val_target),\n",
    "                    callbacks=[checkpoint_cb, early_stopping_cb])"
   ],
   "metadata": {
    "collapsed": false,
    "ExecuteTime": {
     "end_time": "2023-11-07T06:28:07.611414600Z",
     "start_time": "2023-11-07T06:25:12.608299900Z"
    }
   },
   "id": "aae62886cc0e3360"
  },
  {
   "cell_type": "code",
   "execution_count": 5,
   "outputs": [
    {
     "data": {
      "text/plain": "<Figure size 640x480 with 1 Axes>",
      "image/png": "[encoded data removed]"
     },
     "metadata": {},
     "output_type": "display_data"
    }
   ],
   "source": [
    "import matplotlib.pyplot as plt\n",
    "\n",
    "plt.plot(history.history['loss'])\n",
    "plt.plot(history.history['val_loss'])\n",
    "plt.xlabel('epoch')\n",
    "plt.ylabel('loss')\n",
    "plt.legend(['train', 'val'])\n",
    "plt.show()"
   ],
   "metadata": {
    "collapsed": false,
    "ExecuteTime": {
     "end_time": "2023-11-07T06:28:34.552918800Z",
     "start_time": "2023-11-07T06:28:34.235899800Z"
    }
   },
   "id": "bf2a7617d09ec379"
  },
  {
   "cell_type": "code",
   "execution_count": null,
   "outputs": [],
   "source": [],
   "metadata": {
    "collapsed": false
   },
   "id": "d2ad714d0c4f7107"
  }
 ],
 "metadata": {
  "kernelspec": {
   "display_name": "Python 3",
   "language": "python",
   "name": "python3"
  },
  "language_info": {
   "codemirror_mode": {
    "name": "ipython",
    "version": 2
   },
   "file_extension": ".py",
   "mimetype": "text/x-python",
   "name": "python",
   "nbconvert_exporter": "python",
   "pygments_lexer": "ipython2",
   "version": "2.7.6"
  }
 },
 "nbformat": 4,
 "nbformat_minor": 5
}
