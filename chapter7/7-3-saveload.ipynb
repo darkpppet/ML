{
 "cells": [
  {
   "cell_type": "code",
   "execution_count": 1,
   "id": "initial_id",
   "metadata": {
    "collapsed": true,
    "ExecuteTime": {
     "end_time": "2023-11-05T12:26:59.068802500Z",
     "start_time": "2023-11-05T12:26:55.820461700Z"
    }
   },
   "outputs": [],
   "source": [
    "from tensorflow import keras\n",
    "from sklearn.model_selection import train_test_split\n",
    "\n",
    "(train_input, train_target), (test_input, test_target) =\\\n",
    "    keras.datasets.fashion_mnist.load_data()\n",
    "\n",
    "train_scaled = train_input / 255.0\n",
    "train_scaled, val_scaled, train_target, val_target = train_test_split(\n",
    "        train_scaled, train_target, test_size=0.2)\n",
    "\n",
    "def model_fn(a_layer=None):\n",
    "    model = keras.Sequential()\n",
    "    model.add(keras.layers.Flatten(input_shape=(28, 28)))\n",
    "    model.add(keras.layers.Dense(100, activation='relu'))\n",
    "    if a_layer:\n",
    "        model.add(a_layer)\n",
    "    model.add(keras.layers.Dense(10, activation='softmax'))\n",
    "    return model"
   ]
  },
  {
   "cell_type": "code",
   "execution_count": 2,
   "outputs": [],
   "source": [
    "model = model_fn(keras.layers.Dropout(0.3))\n",
    "model.compile(optimizer='adam', loss='sparse_categorical_crossentropy',\n",
    "              metrics='accuracy')\n",
    "history = model.fit(train_scaled, train_target, epochs=10, verbose=0,\n",
    "                    validation_data=(val_scaled, val_target))"
   ],
   "metadata": {
    "collapsed": false,
    "ExecuteTime": {
     "end_time": "2023-11-05T12:27:17.122400200Z",
     "start_time": "2023-11-05T12:26:58.938518600Z"
    }
   },
   "id": "64da369ce491508a"
  },
  {
   "cell_type": "code",
   "execution_count": 3,
   "outputs": [],
   "source": [
    "model.save_weights('h5/model-weights.h5')"
   ],
   "metadata": {
    "collapsed": false,
    "ExecuteTime": {
     "end_time": "2023-11-05T12:27:17.137567300Z",
     "start_time": "2023-11-05T12:27:17.122400200Z"
    }
   },
   "id": "5a0e244cfac37e97"
  },
  {
   "cell_type": "code",
   "execution_count": 4,
   "outputs": [
    {
     "name": "stderr",
     "output_type": "stream",
     "text": [
      "C:\\Users\\gyeol\\AppData\\Local\\Programs\\Python\\Python311\\Lib\\site-packages\\keras\\src\\engine\\training.py:3079: UserWarning: You are saving your model as an HDF5 file via `model.save()`. This file format is considered legacy. We recommend using instead the native Keras format, e.g. `model.save('my_model.keras')`.\n",
      "  saving_api.save_model(\n"
     ]
    }
   ],
   "source": [
    "model.save('h5/model-whole.h5')"
   ],
   "metadata": {
    "collapsed": false,
    "ExecuteTime": {
     "end_time": "2023-11-05T12:27:17.150995100Z",
     "start_time": "2023-11-05T12:27:17.135573900Z"
    }
   },
   "id": "d85ffbc8032f8c7b"
  },
  {
   "cell_type": "code",
   "execution_count": 5,
   "outputs": [],
   "source": [
    "model = model_fn(keras.layers.Dropout(0.3))\n",
    "model.load_weights('h5/model-weights.h5')"
   ],
   "metadata": {
    "collapsed": false,
    "ExecuteTime": {
     "end_time": "2023-11-05T12:27:17.185175300Z",
     "start_time": "2023-11-05T12:27:17.152013600Z"
    }
   },
   "id": "7cfacefa2310a6c1"
  },
  {
   "cell_type": "code",
   "execution_count": 6,
   "outputs": [
    {
     "name": "stdout",
     "output_type": "stream",
     "text": [
      "375/375 [==============================] - 0s 765us/step\n",
      "0.88175\n"
     ]
    }
   ],
   "source": [
    "import numpy as np\n",
    "\n",
    "val_labels = np.argmax(model.predict(val_scaled), axis=-1)\n",
    "print(np.mean(val_labels == val_target))"
   ],
   "metadata": {
    "collapsed": false,
    "ExecuteTime": {
     "end_time": "2023-11-05T12:27:17.671727700Z",
     "start_time": "2023-11-05T12:27:17.184178200Z"
    }
   },
   "id": "bf3992d0b27343a9"
  },
  {
   "cell_type": "code",
   "execution_count": 7,
   "outputs": [
    {
     "name": "stdout",
     "output_type": "stream",
     "text": [
      "375/375 [==============================] - 0s 819us/step - loss: 0.3190 - accuracy: 0.8817\n"
     ]
    },
    {
     "data": {
      "text/plain": "[0.31897976994514465, 0.8817499876022339]"
     },
     "execution_count": 7,
     "metadata": {},
     "output_type": "execute_result"
    }
   ],
   "source": [
    "model = keras.models.load_model('h5/model-whole.h5')\n",
    "model.evaluate(val_scaled, val_target)"
   ],
   "metadata": {
    "collapsed": false,
    "ExecuteTime": {
     "end_time": "2023-11-05T12:27:18.131236500Z",
     "start_time": "2023-11-05T12:27:17.666437800Z"
    }
   },
   "id": "8ce7d527b7009ea6"
  },
  {
   "cell_type": "code",
   "execution_count": 7,
   "outputs": [],
   "source": [],
   "metadata": {
    "collapsed": false,
    "ExecuteTime": {
     "end_time": "2023-11-05T12:27:18.142432200Z",
     "start_time": "2023-11-05T12:27:18.132707200Z"
    }
   },
   "id": "928f234d7b46fde1"
  }
 ],
 "metadata": {
  "kernelspec": {
   "display_name": "Python 3",
   "language": "python",
   "name": "python3"
  },
  "language_info": {
   "codemirror_mode": {
    "name": "ipython",
    "version": 2
   },
   "file_extension": ".py",
   "mimetype": "text/x-python",
   "name": "python",
   "nbconvert_exporter": "python",
   "pygments_lexer": "ipython2",
   "version": "2.7.6"
  }
 },
 "nbformat": 4,
 "nbformat_minor": 5
}
