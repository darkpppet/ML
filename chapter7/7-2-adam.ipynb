{
 "cells": [
  {
   "cell_type": "code",
   "execution_count": 1,
   "id": "initial_id",
   "metadata": {
    "collapsed": true,
    "ExecuteTime": {
     "end_time": "2023-11-04T18:26:58.396109200Z",
     "start_time": "2023-11-04T18:26:55.754858Z"
    }
   },
   "outputs": [],
   "source": [
    "from tensorflow import keras\n",
    "from sklearn.model_selection import train_test_split\n",
    "\n",
    "(train_input, train_target), (test_input, test_target) =\\\n",
    "    keras.datasets.fashion_mnist.load_data()\n",
    "\n",
    "train_scaled = train_input / 255.0\n",
    "train_scaled, val_scaled, train_target, val_target = train_test_split(\n",
    "    train_scaled, train_target, test_size=0.2)"
   ]
  },
  {
   "cell_type": "code",
   "execution_count": 2,
   "outputs": [],
   "source": [
    "model = keras.Sequential()\n",
    "model.add(keras.layers.Flatten(input_shape=(28, 28)))\n",
    "model.add(keras.layers.Dense(100, activation='relu'))\n",
    "model.add(keras.layers.Dense(10, activation='softmax'))"
   ],
   "metadata": {
    "collapsed": false,
    "ExecuteTime": {
     "end_time": "2023-11-04T18:26:58.440646400Z",
     "start_time": "2023-11-04T18:26:58.396947400Z"
    }
   },
   "id": "515828f37992ba17"
  },
  {
   "cell_type": "code",
   "execution_count": 3,
   "outputs": [
    {
     "name": "stdout",
     "output_type": "stream",
     "text": [
      "Epoch 1/5\n",
      "1500/1500 [==============================] - 2s 856us/step - loss: 0.5254 - accuracy: 0.8180\n",
      "Epoch 2/5\n",
      "1500/1500 [==============================] - 1s 854us/step - loss: 0.3961 - accuracy: 0.8588\n",
      "Epoch 3/5\n",
      "1500/1500 [==============================] - 1s 844us/step - loss: 0.3529 - accuracy: 0.8733\n",
      "Epoch 4/5\n",
      "1500/1500 [==============================] - 1s 851us/step - loss: 0.3245 - accuracy: 0.8819\n",
      "Epoch 5/5\n",
      "1500/1500 [==============================] - 1s 843us/step - loss: 0.3063 - accuracy: 0.8892\n"
     ]
    },
    {
     "data": {
      "text/plain": "<keras.src.callbacks.History at 0x235c6faf910>"
     },
     "execution_count": 3,
     "metadata": {},
     "output_type": "execute_result"
    }
   ],
   "source": [
    "model.compile(optimizer='adam', loss='sparse_categorical_crossentropy',\n",
    "              metrics='accuracy')\n",
    "model.fit(train_scaled, train_target, epochs=5)"
   ],
   "metadata": {
    "collapsed": false,
    "ExecuteTime": {
     "end_time": "2023-11-04T18:27:05.258856600Z",
     "start_time": "2023-11-04T18:26:58.441643200Z"
    }
   },
   "id": "a0548d41eba88718"
  },
  {
   "cell_type": "code",
   "execution_count": 4,
   "outputs": [
    {
     "name": "stdout",
     "output_type": "stream",
     "text": [
      "375/375 [==============================] - 0s 674us/step - loss: 0.3414 - accuracy: 0.8787\n"
     ]
    },
    {
     "data": {
      "text/plain": "[0.3414292335510254, 0.8786666393280029]"
     },
     "execution_count": 4,
     "metadata": {},
     "output_type": "execute_result"
    }
   ],
   "source": [
    "model.evaluate(val_scaled, val_target)"
   ],
   "metadata": {
    "collapsed": false,
    "ExecuteTime": {
     "end_time": "2023-11-04T18:27:26.718236400Z",
     "start_time": "2023-11-04T18:27:26.341770Z"
    }
   },
   "id": "2926a4b61ccf3961"
  },
  {
   "cell_type": "code",
   "execution_count": null,
   "outputs": [],
   "source": [],
   "metadata": {
    "collapsed": false
   },
   "id": "4cabbe8fa1050def"
  }
 ],
 "metadata": {
  "kernelspec": {
   "display_name": "Python 3",
   "language": "python",
   "name": "python3"
  },
  "language_info": {
   "codemirror_mode": {
    "name": "ipython",
    "version": 2
   },
   "file_extension": ".py",
   "mimetype": "text/x-python",
   "name": "python",
   "nbconvert_exporter": "python",
   "pygments_lexer": "ipython2",
   "version": "2.7.6"
  }
 },
 "nbformat": 4,
 "nbformat_minor": 5
}
